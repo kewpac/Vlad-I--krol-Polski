{
 "cells": [
  {
   "cell_type": "code",
   "execution_count": 62,
   "metadata": {},
   "outputs": [
    {
     "name": "stdout",
     "output_type": "stream",
     "text": [
      "Super Jaco!\n",
      "[1, 2, 1, 2] [2, 4]\n",
      "[3, 3] [6]\n",
      "4 8\n"
     ]
    }
   ],
   "source": [
    "import moj_folder.moje_funkcje as qwerty\n",
    "qwerty.jacof01()\n",
    "\n",
    "\n",
    "def double(x):\n",
    "    if isinstance(x, int)==True:\n",
    "        print(x,x*2)\n",
    "    else:\n",
    "        print(x*2,[i * 2 for i in x])\n",
    "double([1,2])\n",
    "double([3])\n",
    "double(4)\n"
   ]
  }
 ],
 "metadata": {
  "kernelspec": {
   "display_name": "Python 3",
   "language": "python",
   "name": "python3"
  },
  "language_info": {
   "codemirror_mode": {
    "name": "ipython",
    "version": 3
   },
   "file_extension": ".py",
   "mimetype": "text/x-python",
   "name": "python",
   "nbconvert_exporter": "python",
   "pygments_lexer": "ipython3",
   "version": "3.7.0"
  }
 },
 "nbformat": 4,
 "nbformat_minor": 2
}
